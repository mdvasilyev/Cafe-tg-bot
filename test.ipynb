{
 "cells": [
  {
   "cell_type": "code",
   "execution_count": 1,
   "metadata": {},
   "outputs": [
    {
     "data": {
      "text/html": [
       "<div>\n",
       "<style scoped>\n",
       "    .dataframe tbody tr th:only-of-type {\n",
       "        vertical-align: middle;\n",
       "    }\n",
       "\n",
       "    .dataframe tbody tr th {\n",
       "        vertical-align: top;\n",
       "    }\n",
       "\n",
       "    .dataframe thead th {\n",
       "        text-align: right;\n",
       "    }\n",
       "</style>\n",
       "<table border=\"1\" class=\"dataframe\">\n",
       "  <thead>\n",
       "    <tr style=\"text-align: right;\">\n",
       "      <th></th>\n",
       "      <th>Serial Number</th>\n",
       "      <th>Name</th>\n",
       "      <th>Height (in inches)</th>\n",
       "      <th>Age</th>\n",
       "      <th>Phone number</th>\n",
       "    </tr>\n",
       "  </thead>\n",
       "  <tbody>\n",
       "    <tr>\n",
       "      <th>0</th>\n",
       "      <td>1</td>\n",
       "      <td>AA</td>\n",
       "      <td>142.0</td>\n",
       "      <td>10</td>\n",
       "      <td>100000001</td>\n",
       "    </tr>\n",
       "    <tr>\n",
       "      <th>1</th>\n",
       "      <td>2</td>\n",
       "      <td>AB</td>\n",
       "      <td>143.0</td>\n",
       "      <td>11</td>\n",
       "      <td>100000002</td>\n",
       "    </tr>\n",
       "    <tr>\n",
       "      <th>2</th>\n",
       "      <td>3</td>\n",
       "      <td>AC</td>\n",
       "      <td>145.0</td>\n",
       "      <td>12</td>\n",
       "      <td>100000003</td>\n",
       "    </tr>\n",
       "    <tr>\n",
       "      <th>3</th>\n",
       "      <td>4</td>\n",
       "      <td>AD</td>\n",
       "      <td>172.0</td>\n",
       "      <td>13</td>\n",
       "      <td>100000004</td>\n",
       "    </tr>\n",
       "    <tr>\n",
       "      <th>4</th>\n",
       "      <td>5</td>\n",
       "      <td>AE</td>\n",
       "      <td>147.0</td>\n",
       "      <td>14</td>\n",
       "      <td>100000005</td>\n",
       "    </tr>\n",
       "  </tbody>\n",
       "</table>\n",
       "</div>"
      ],
      "text/plain": [
       "   Serial Number Name  Height (in inches)  Age  Phone number\n",
       "0              1   AA               142.0   10     100000001\n",
       "1              2   AB               143.0   11     100000002\n",
       "2              3   AC               145.0   12     100000003\n",
       "3              4   AD               172.0   13     100000004\n",
       "4              5   AE               147.0   14     100000005"
      ]
     },
     "execution_count": 1,
     "metadata": {},
     "output_type": "execute_result"
    }
   ],
   "source": [
    "import pandas as pd\n",
    "# pd.read_csv('ml-100k/u.item', sep='|', names=m_cols , encoding='latin-1')\n",
    "df = pd.read_csv('Book1.csv')\n",
    "df.head()"
   ]
  }
 ],
 "metadata": {
  "kernelspec": {
   "display_name": "Python 3",
   "language": "python",
   "name": "python3"
  },
  "language_info": {
   "codemirror_mode": {
    "name": "ipython",
    "version": 3
   },
   "file_extension": ".py",
   "mimetype": "text/x-python",
   "name": "python",
   "nbconvert_exporter": "python",
   "pygments_lexer": "ipython3",
   "version": "3.9.10"
  },
  "orig_nbformat": 4
 },
 "nbformat": 4,
 "nbformat_minor": 2
}
