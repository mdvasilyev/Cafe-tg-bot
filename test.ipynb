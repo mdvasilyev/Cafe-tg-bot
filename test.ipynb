{
 "cells": [
  {
   "cell_type": "code",
   "execution_count": 21,
   "metadata": {},
   "outputs": [
    {
     "data": {
      "text/plain": "   Serial Number Name  Height (in inches)  Age  Phone number\n0              1   AA               142.0   10     100000001\n1              2   AB               143.0   11     100000002\n2              3   AC               145.0   12     100000003\n3              4   AD               172.0   13     100000004\n4              5   AE               147.0   14     100000005\n5              6   AF               148.5   15     100000006\n6              7   AG               149.8   16     100000007\n7              8   AH               151.1   17     100000008\n8              9   AI               152.4   18     100000009\n9             10   AJ               153.7   19     100000010",
      "text/html": "<div>\n<style scoped>\n    .dataframe tbody tr th:only-of-type {\n        vertical-align: middle;\n    }\n\n    .dataframe tbody tr th {\n        vertical-align: top;\n    }\n\n    .dataframe thead th {\n        text-align: right;\n    }\n</style>\n<table border=\"1\" class=\"dataframe\">\n  <thead>\n    <tr style=\"text-align: right;\">\n      <th></th>\n      <th>Serial Number</th>\n      <th>Name</th>\n      <th>Height (in inches)</th>\n      <th>Age</th>\n      <th>Phone number</th>\n    </tr>\n  </thead>\n  <tbody>\n    <tr>\n      <th>0</th>\n      <td>1</td>\n      <td>AA</td>\n      <td>142.0</td>\n      <td>10</td>\n      <td>100000001</td>\n    </tr>\n    <tr>\n      <th>1</th>\n      <td>2</td>\n      <td>AB</td>\n      <td>143.0</td>\n      <td>11</td>\n      <td>100000002</td>\n    </tr>\n    <tr>\n      <th>2</th>\n      <td>3</td>\n      <td>AC</td>\n      <td>145.0</td>\n      <td>12</td>\n      <td>100000003</td>\n    </tr>\n    <tr>\n      <th>3</th>\n      <td>4</td>\n      <td>AD</td>\n      <td>172.0</td>\n      <td>13</td>\n      <td>100000004</td>\n    </tr>\n    <tr>\n      <th>4</th>\n      <td>5</td>\n      <td>AE</td>\n      <td>147.0</td>\n      <td>14</td>\n      <td>100000005</td>\n    </tr>\n    <tr>\n      <th>5</th>\n      <td>6</td>\n      <td>AF</td>\n      <td>148.5</td>\n      <td>15</td>\n      <td>100000006</td>\n    </tr>\n    <tr>\n      <th>6</th>\n      <td>7</td>\n      <td>AG</td>\n      <td>149.8</td>\n      <td>16</td>\n      <td>100000007</td>\n    </tr>\n    <tr>\n      <th>7</th>\n      <td>8</td>\n      <td>AH</td>\n      <td>151.1</td>\n      <td>17</td>\n      <td>100000008</td>\n    </tr>\n    <tr>\n      <th>8</th>\n      <td>9</td>\n      <td>AI</td>\n      <td>152.4</td>\n      <td>18</td>\n      <td>100000009</td>\n    </tr>\n    <tr>\n      <th>9</th>\n      <td>10</td>\n      <td>AJ</td>\n      <td>153.7</td>\n      <td>19</td>\n      <td>100000010</td>\n    </tr>\n  </tbody>\n</table>\n</div>"
     },
     "execution_count": 21,
     "metadata": {},
     "output_type": "execute_result"
    }
   ],
   "source": [
    "import pandas as pd\n",
    "# pd.read_csv('ml-100k/u.item', sep='|', names=m_cols , encoding='latin-1')\n",
    "df = pd.read_csv('Book1.csv')\n",
    "df.head(10)"
   ]
  },
  {
   "cell_type": "code",
   "execution_count": 16,
   "outputs": [
    {
     "data": {
      "text/plain": "[1,\n 2,\n 3,\n 4,\n 5,\n 6,\n 7,\n 8,\n 9,\n 10,\n 11,\n 12,\n 13,\n 14,\n 15,\n 16,\n 17,\n 18,\n 19,\n 20,\n 21,\n 22,\n 23,\n 24,\n 25,\n 26,\n 27,\n 28,\n 29,\n 30,\n 31,\n 32,\n 33,\n 34,\n 35,\n 36,\n 37,\n 38,\n 39,\n 40,\n 41,\n 42,\n 43,\n 44,\n 45,\n 46,\n 47,\n 48,\n 49,\n 50]"
     },
     "execution_count": 16,
     "metadata": {},
     "output_type": "execute_result"
    }
   ],
   "source": [
    "[df['Serial Number'][i] for i in range(len(df))]"
   ],
   "metadata": {
    "collapsed": false
   }
  },
  {
   "cell_type": "code",
   "execution_count": 20,
   "outputs": [
    {
     "data": {
      "text/plain": "Empty DataFrame\nColumns: [Serial Number, Name, Height (in inches), Age, Phone number]\nIndex: []",
      "text/html": "<div>\n<style scoped>\n    .dataframe tbody tr th:only-of-type {\n        vertical-align: middle;\n    }\n\n    .dataframe tbody tr th {\n        vertical-align: top;\n    }\n\n    .dataframe thead th {\n        text-align: right;\n    }\n</style>\n<table border=\"1\" class=\"dataframe\">\n  <thead>\n    <tr style=\"text-align: right;\">\n      <th></th>\n      <th>Serial Number</th>\n      <th>Name</th>\n      <th>Height (in inches)</th>\n      <th>Age</th>\n      <th>Phone number</th>\n    </tr>\n  </thead>\n  <tbody>\n  </tbody>\n</table>\n</div>"
     },
     "execution_count": 20,
     "metadata": {},
     "output_type": "execute_result"
    }
   ],
   "source": [
    "df[:0]"
   ],
   "metadata": {
    "collapsed": false
   }
  },
  {
   "cell_type": "code",
   "execution_count": null,
   "outputs": [],
   "source": [],
   "metadata": {
    "collapsed": false
   }
  }
 ],
 "metadata": {
  "kernelspec": {
   "display_name": "Python 3",
   "language": "python",
   "name": "python3"
  },
  "language_info": {
   "codemirror_mode": {
    "name": "ipython",
    "version": 3
   },
   "file_extension": ".py",
   "mimetype": "text/x-python",
   "name": "python",
   "nbconvert_exporter": "python",
   "pygments_lexer": "ipython3",
   "version": "3.9.10"
  },
  "orig_nbformat": 4
 },
 "nbformat": 4,
 "nbformat_minor": 2
}
