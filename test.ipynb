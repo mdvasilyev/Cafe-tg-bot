{
 "cells": [
  {
   "cell_type": "code",
   "execution_count": 11,
   "metadata": {},
   "outputs": [
    {
     "data": {
      "text/plain": "                              Салаты                               Супы  \\\n0  1. Салат «Витаминный», 120г, 65р.  1. Крем-суп из овощей, 300г, 71р.   \n1   2. Салат «питерский», 120г, 76р.                                NaN   \n2   3. Салат цезарь с курицей, 167р.                                NaN   \n3                                NaN                                NaN   \n4                                NaN                                NaN   \n\n                                             Горячее  \\\n0              1. Картопляник с грибами, 1 шт, 109р.   \n1                            2. Тефтели, 2 шт, 129р.   \n2  3. Кусочки куриного филе в сливочном соусе, 139р.   \n3                     4. Плов из курицы, 220г, 156р.   \n4                      5. Макароны по флотски, 133р.   \n\n                             Гарнир  \\\n0  1. Картофельное пюре, 150г, 65р.   \n1             2. Гречка, 150г, 55р.   \n2       3. Запеченая картошка, 70р.   \n3                               NaN   \n4                               NaN   \n\n                          Пицца и хачапури из печи  \\\n0        1. Пицца «Пепперони», 500г (целая), 430р.   \n1              2. Пицца «Пепперони», 1 кусок, 55р.   \n2  3. Пицца «Цыпленок Чеддер», 500г (целая), 440р.   \n3        4. Пицца «Цыпленок Чеддер», 1 кусок, 56р.   \n4   5. Пицца «Бекон пармезан», 500г (целая), 450р.   \n\n                              Выпечка                Десерты  \\\n0  1. Слойка с ветчиной и сыром, 75р.      1. Чизкейк, 113р.   \n1            2. Сосиска в тесте, 67р.  2. Ред вильвет, 137р.   \n2          3. Улитка с творогом, 71р.       3. Брауни, 157р.   \n3                 4. Запеканка, 109р.    4. Сметанник, 137р.   \n4            5. Слойка с вишней, 65р.                    NaN   \n\n                                         Напитки  \\\n0                             1. Вода 0.5л, 60р.   \n1                  2. Компот ягодный литр, 100р.   \n2  3. Липтон 0.5 (персик, лимон и зеленый), 73р.   \n3                                            NaN   \n4                                            NaN   \n\n                                          Ланчибоксы  \n0                 1. Суповой, 14р. (при заказе супа)  \n1         2. Большой, 16р. (при заказе горячих блюд)  \n2  3. Маленький, 6р. (при заказе блюд и выпечки, ...  \n3                                                NaN  \n4                                                NaN  ",
      "text/html": "<div>\n<style scoped>\n    .dataframe tbody tr th:only-of-type {\n        vertical-align: middle;\n    }\n\n    .dataframe tbody tr th {\n        vertical-align: top;\n    }\n\n    .dataframe thead th {\n        text-align: right;\n    }\n</style>\n<table border=\"1\" class=\"dataframe\">\n  <thead>\n    <tr style=\"text-align: right;\">\n      <th></th>\n      <th>Салаты</th>\n      <th>Супы</th>\n      <th>Горячее</th>\n      <th>Гарнир</th>\n      <th>Пицца и хачапури из печи</th>\n      <th>Выпечка</th>\n      <th>Десерты</th>\n      <th>Напитки</th>\n      <th>Ланчибоксы</th>\n    </tr>\n  </thead>\n  <tbody>\n    <tr>\n      <th>0</th>\n      <td>1. Салат «Витаминный», 120г, 65р.</td>\n      <td>1. Крем-суп из овощей, 300г, 71р.</td>\n      <td>1. Картопляник с грибами, 1 шт, 109р.</td>\n      <td>1. Картофельное пюре, 150г, 65р.</td>\n      <td>1. Пицца «Пепперони», 500г (целая), 430р.</td>\n      <td>1. Слойка с ветчиной и сыром, 75р.</td>\n      <td>1. Чизкейк, 113р.</td>\n      <td>1. Вода 0.5л, 60р.</td>\n      <td>1. Суповой, 14р. (при заказе супа)</td>\n    </tr>\n    <tr>\n      <th>1</th>\n      <td>2. Салат «питерский», 120г, 76р.</td>\n      <td>NaN</td>\n      <td>2. Тефтели, 2 шт, 129р.</td>\n      <td>2. Гречка, 150г, 55р.</td>\n      <td>2. Пицца «Пепперони», 1 кусок, 55р.</td>\n      <td>2. Сосиска в тесте, 67р.</td>\n      <td>2. Ред вильвет, 137р.</td>\n      <td>2. Компот ягодный литр, 100р.</td>\n      <td>2. Большой, 16р. (при заказе горячих блюд)</td>\n    </tr>\n    <tr>\n      <th>2</th>\n      <td>3. Салат цезарь с курицей, 167р.</td>\n      <td>NaN</td>\n      <td>3. Кусочки куриного филе в сливочном соусе, 139р.</td>\n      <td>3. Запеченая картошка, 70р.</td>\n      <td>3. Пицца «Цыпленок Чеддер», 500г (целая), 440р.</td>\n      <td>3. Улитка с творогом, 71р.</td>\n      <td>3. Брауни, 157р.</td>\n      <td>3. Липтон 0.5 (персик, лимон и зеленый), 73р.</td>\n      <td>3. Маленький, 6р. (при заказе блюд и выпечки, ...</td>\n    </tr>\n    <tr>\n      <th>3</th>\n      <td>NaN</td>\n      <td>NaN</td>\n      <td>4. Плов из курицы, 220г, 156р.</td>\n      <td>NaN</td>\n      <td>4. Пицца «Цыпленок Чеддер», 1 кусок, 56р.</td>\n      <td>4. Запеканка, 109р.</td>\n      <td>4. Сметанник, 137р.</td>\n      <td>NaN</td>\n      <td>NaN</td>\n    </tr>\n    <tr>\n      <th>4</th>\n      <td>NaN</td>\n      <td>NaN</td>\n      <td>5. Макароны по флотски, 133р.</td>\n      <td>NaN</td>\n      <td>5. Пицца «Бекон пармезан», 500г (целая), 450р.</td>\n      <td>5. Слойка с вишней, 65р.</td>\n      <td>NaN</td>\n      <td>NaN</td>\n      <td>NaN</td>\n    </tr>\n  </tbody>\n</table>\n</div>"
     },
     "execution_count": 11,
     "metadata": {},
     "output_type": "execute_result"
    }
   ],
   "source": [
    "import pandas as pd\n",
    "df = pd.read_excel('dishes.xlsx')\n",
    "df.head()"
   ]
  },
  {
   "cell_type": "code",
   "execution_count": 12,
   "outputs": [],
   "source": [
    "indexes_salads = list(~pd.isna(df['Салаты']))\n",
    "slds = list(df['Салаты'][indexes_salads])\n",
    "strng = '\\n'.join(slds)"
   ],
   "metadata": {
    "collapsed": false
   }
  },
  {
   "cell_type": "code",
   "execution_count": 13,
   "outputs": [
    {
     "name": "stdout",
     "output_type": "stream",
     "text": [
      "1. Салат «Витаминный», 120г, 65р.\n",
      "2. Салат «питерский», 120г, 76р.\n",
      "3. Салат цезарь с курицей, 167р.\n"
     ]
    }
   ],
   "source": [
    "print(strng)"
   ],
   "metadata": {
    "collapsed": false
   }
  }
 ],
 "metadata": {
  "kernelspec": {
   "display_name": "Python 3",
   "language": "python",
   "name": "python3"
  },
  "language_info": {
   "codemirror_mode": {
    "name": "ipython",
    "version": 3
   },
   "file_extension": ".py",
   "mimetype": "text/x-python",
   "name": "python",
   "nbconvert_exporter": "python",
   "pygments_lexer": "ipython3",
   "version": "3.9.10"
  },
  "orig_nbformat": 4
 },
 "nbformat": 4,
 "nbformat_minor": 2
}
