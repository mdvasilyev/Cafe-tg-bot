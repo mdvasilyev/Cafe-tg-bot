{
 "cells": [
  {
   "cell_type": "code",
   "execution_count": 1,
   "metadata": {},
   "outputs": [
    {
     "data": {
      "text/html": [
       "<div>\n",
       "<style scoped>\n",
       "    .dataframe tbody tr th:only-of-type {\n",
       "        vertical-align: middle;\n",
       "    }\n",
       "\n",
       "    .dataframe tbody tr th {\n",
       "        vertical-align: top;\n",
       "    }\n",
       "\n",
       "    .dataframe thead th {\n",
       "        text-align: right;\n",
       "    }\n",
       "</style>\n",
       "<table border=\"1\" class=\"dataframe\">\n",
       "  <thead>\n",
       "    <tr style=\"text-align: right;\">\n",
       "      <th></th>\n",
       "      <th>Салаты</th>\n",
       "      <th>Супы</th>\n",
       "      <th>Горячее</th>\n",
       "      <th>Гарнир</th>\n",
       "      <th>Пицца и хачапури из печи</th>\n",
       "      <th>Выпечка</th>\n",
       "      <th>Десерты</th>\n",
       "      <th>Напитки</th>\n",
       "      <th>Ланчбоксы</th>\n",
       "    </tr>\n",
       "  </thead>\n",
       "  <tbody>\n",
       "    <tr>\n",
       "      <th>0</th>\n",
       "      <td>1. Салат «Витаминный», 120г, 65р.</td>\n",
       "      <td>1. Крем-суп из овощей, 300г, 71р.</td>\n",
       "      <td>1. Картопляник с грибами, 1 шт, 109р.</td>\n",
       "      <td>1. Картофельное пюре, 150г, 65р.</td>\n",
       "      <td>1. Пицца «Пепперони», 500г (целая), 430р.</td>\n",
       "      <td>1. Слойка с ветчиной и сыром, 75р.</td>\n",
       "      <td>1. Чизкейк, 113р.</td>\n",
       "      <td>1. Вода 0.5л, 60р.</td>\n",
       "      <td>1. Суповой, 14р. (при заказе супа)</td>\n",
       "    </tr>\n",
       "    <tr>\n",
       "      <th>1</th>\n",
       "      <td>2. Салат «питерский», 120г, 76р.</td>\n",
       "      <td>NaN</td>\n",
       "      <td>2. Тефтели, 2 шт, 129р.</td>\n",
       "      <td>2. Гречка, 150г, 55р.</td>\n",
       "      <td>2. Пицца «Пепперони», 1 кусок, 55р.</td>\n",
       "      <td>2. Сосиска в тесте, 67р.</td>\n",
       "      <td>2. Ред вильвет, 137р.</td>\n",
       "      <td>2. Компот ягодный литр, 100р.</td>\n",
       "      <td>2. Большой, 16р. (при заказе горячих блюд)</td>\n",
       "    </tr>\n",
       "    <tr>\n",
       "      <th>2</th>\n",
       "      <td>3. Салат цезарь с курицей, 167р.</td>\n",
       "      <td>NaN</td>\n",
       "      <td>3. Кусочки куриного филе в сливочном соусе, 139р.</td>\n",
       "      <td>3. Запеченая картошка, 70р.</td>\n",
       "      <td>3. Пицца «Цыпленок Чеддер», 500г (целая), 440р.</td>\n",
       "      <td>3. Улитка с творогом, 71р.</td>\n",
       "      <td>3. Брауни, 157р.</td>\n",
       "      <td>3. Липтон 0.5 (персик, лимон и зеленый), 73р.</td>\n",
       "      <td>3. Маленький, 6р. (при заказе блюд и выпечки, ...</td>\n",
       "    </tr>\n",
       "    <tr>\n",
       "      <th>3</th>\n",
       "      <td>NaN</td>\n",
       "      <td>NaN</td>\n",
       "      <td>4. Плов из курицы, 220г, 156р.</td>\n",
       "      <td>NaN</td>\n",
       "      <td>4. Пицца «Цыпленок Чеддер», 1 кусок, 56р.</td>\n",
       "      <td>4. Запеканка, 109р.</td>\n",
       "      <td>4. Сметанник, 137р.</td>\n",
       "      <td>NaN</td>\n",
       "      <td>NaN</td>\n",
       "    </tr>\n",
       "    <tr>\n",
       "      <th>4</th>\n",
       "      <td>NaN</td>\n",
       "      <td>NaN</td>\n",
       "      <td>5. Макароны по флотски, 133р.</td>\n",
       "      <td>NaN</td>\n",
       "      <td>5. Пицца «Бекон пармезан», 500г (целая), 450р.</td>\n",
       "      <td>5. Слойка с вишней, 65р.</td>\n",
       "      <td>NaN</td>\n",
       "      <td>NaN</td>\n",
       "      <td>NaN</td>\n",
       "    </tr>\n",
       "  </tbody>\n",
       "</table>\n",
       "</div>"
      ],
      "text/plain": [
       "                              Салаты                               Супы  \\\n",
       "0  1. Салат «Витаминный», 120г, 65р.  1. Крем-суп из овощей, 300г, 71р.   \n",
       "1   2. Салат «питерский», 120г, 76р.                                NaN   \n",
       "2   3. Салат цезарь с курицей, 167р.                                NaN   \n",
       "3                                NaN                                NaN   \n",
       "4                                NaN                                NaN   \n",
       "\n",
       "                                             Горячее  \\\n",
       "0              1. Картопляник с грибами, 1 шт, 109р.   \n",
       "1                            2. Тефтели, 2 шт, 129р.   \n",
       "2  3. Кусочки куриного филе в сливочном соусе, 139р.   \n",
       "3                     4. Плов из курицы, 220г, 156р.   \n",
       "4                      5. Макароны по флотски, 133р.   \n",
       "\n",
       "                             Гарнир  \\\n",
       "0  1. Картофельное пюре, 150г, 65р.   \n",
       "1             2. Гречка, 150г, 55р.   \n",
       "2       3. Запеченая картошка, 70р.   \n",
       "3                               NaN   \n",
       "4                               NaN   \n",
       "\n",
       "                          Пицца и хачапури из печи  \\\n",
       "0        1. Пицца «Пепперони», 500г (целая), 430р.   \n",
       "1              2. Пицца «Пепперони», 1 кусок, 55р.   \n",
       "2  3. Пицца «Цыпленок Чеддер», 500г (целая), 440р.   \n",
       "3        4. Пицца «Цыпленок Чеддер», 1 кусок, 56р.   \n",
       "4   5. Пицца «Бекон пармезан», 500г (целая), 450р.   \n",
       "\n",
       "                              Выпечка                Десерты  \\\n",
       "0  1. Слойка с ветчиной и сыром, 75р.      1. Чизкейк, 113р.   \n",
       "1            2. Сосиска в тесте, 67р.  2. Ред вильвет, 137р.   \n",
       "2          3. Улитка с творогом, 71р.       3. Брауни, 157р.   \n",
       "3                 4. Запеканка, 109р.    4. Сметанник, 137р.   \n",
       "4            5. Слойка с вишней, 65р.                    NaN   \n",
       "\n",
       "                                         Напитки  \\\n",
       "0                             1. Вода 0.5л, 60р.   \n",
       "1                  2. Компот ягодный литр, 100р.   \n",
       "2  3. Липтон 0.5 (персик, лимон и зеленый), 73р.   \n",
       "3                                            NaN   \n",
       "4                                            NaN   \n",
       "\n",
       "                                           Ланчбоксы  \n",
       "0                 1. Суповой, 14р. (при заказе супа)  \n",
       "1         2. Большой, 16р. (при заказе горячих блюд)  \n",
       "2  3. Маленький, 6р. (при заказе блюд и выпечки, ...  \n",
       "3                                                NaN  \n",
       "4                                                NaN  "
      ]
     },
     "execution_count": 1,
     "metadata": {},
     "output_type": "execute_result"
    }
   ],
   "source": [
    "import pandas as pd\n",
    "df = pd.read_excel('dishes.xlsx')\n",
    "df.head()"
   ]
  },
  {
   "cell_type": "code",
   "execution_count": 12,
   "metadata": {},
   "outputs": [
    {
     "data": {
      "text/plain": [
       "True"
      ]
     },
     "execution_count": 12,
     "metadata": {},
     "output_type": "execute_result"
    }
   ],
   "source": [
    "'салаты'.capitalize() in df.iloc[:0]"
   ]
  },
  {
   "cell_type": "code",
   "execution_count": 12,
   "metadata": {
    "collapsed": false
   },
   "outputs": [],
   "source": [
    "indexes_salads = list(~pd.isna(df['Салаты']))\n",
    "slds = list(df['Салаты'][indexes_salads])\n",
    "strng = '\\n'.join(slds)"
   ]
  },
  {
   "cell_type": "code",
   "execution_count": 13,
   "metadata": {
    "collapsed": false
   },
   "outputs": [
    {
     "name": "stdout",
     "output_type": "stream",
     "text": [
      "1. Салат «Витаминный», 120г, 65р.\n",
      "2. Салат «питерский», 120г, 76р.\n",
      "3. Салат цезарь с курицей, 167р.\n"
     ]
    }
   ],
   "source": [
    "print(strng)"
   ]
  },
  {
   "cell_type": "code",
   "execution_count": 2,
   "outputs": [
    {
     "ename": "ValueError",
     "evalue": "invalid literal for int() with base 10: 'Отмена'",
     "output_type": "error",
     "traceback": [
      "\u001B[1;31m---------------------------------------------------------------------------\u001B[0m",
      "\u001B[1;31mValueError\u001B[0m                                Traceback (most recent call last)",
      "Cell \u001B[1;32mIn[2], line 1\u001B[0m\n\u001B[1;32m----> 1\u001B[0m \u001B[38;5;28mprint\u001B[39m(\u001B[38;5;28;43mint\u001B[39;49m\u001B[43m(\u001B[49m\u001B[38;5;124;43m'\u001B[39;49m\u001B[38;5;124;43mОтмена\u001B[39;49m\u001B[38;5;124;43m'\u001B[39;49m\u001B[43m)\u001B[49m)\n",
      "\u001B[1;31mValueError\u001B[0m: invalid literal for int() with base 10: 'Отмена'"
     ]
    }
   ],
   "source": [
    "print(int('Отмена'))"
   ],
   "metadata": {
    "collapsed": false
   }
  },
  {
   "cell_type": "code",
   "execution_count": 3,
   "outputs": [
    {
     "data": {
      "text/plain": "6"
     },
     "execution_count": 3,
     "metadata": {},
     "output_type": "execute_result"
    }
   ],
   "source": [
    "len('Отмена')"
   ],
   "metadata": {
    "collapsed": false
   }
  },
  {
   "cell_type": "code",
   "execution_count": 5,
   "outputs": [
    {
     "data": {
      "text/plain": "3"
     },
     "execution_count": 5,
     "metadata": {},
     "output_type": "execute_result"
    }
   ],
   "source": [
    "len('12 ')"
   ],
   "metadata": {
    "collapsed": false
   }
  },
  {
   "cell_type": "code",
   "execution_count": 8,
   "outputs": [
    {
     "name": "stdout",
     "output_type": "stream",
     "text": [
      "a 1\n",
      "c 18\n"
     ]
    }
   ],
   "source": [
    "dict = {\"a\": 1, \"b\": 0, \"c\": 18, \"d\": 0}\n",
    "for i, j in dict.items():\n",
    "    if j != 0:\n",
    "        print(i, j)"
   ],
   "metadata": {
    "collapsed": false
   }
  },
  {
   "cell_type": "code",
   "execution_count": 26,
   "outputs": [
    {
     "ename": "ValueError",
     "evalue": "invalid literal for int() with base 10: ', 120г, 65'",
     "output_type": "error",
     "traceback": [
      "\u001B[1;31m---------------------------------------------------------------------------\u001B[0m",
      "\u001B[1;31mValueError\u001B[0m                                Traceback (most recent call last)",
      "Cell \u001B[1;32mIn[26], line 2\u001B[0m\n\u001B[0;32m      1\u001B[0m \u001B[38;5;28;01mimport\u001B[39;00m \u001B[38;5;21;01mre\u001B[39;00m\n\u001B[1;32m----> 2\u001B[0m price \u001B[38;5;241m=\u001B[39m \u001B[38;5;28;43mint\u001B[39;49m\u001B[43m(\u001B[49m\u001B[43mre\u001B[49m\u001B[38;5;241;43m.\u001B[39;49m\u001B[43msearch\u001B[49m\u001B[43m(\u001B[49m\u001B[38;5;124;43mr\u001B[39;49m\u001B[38;5;124;43m'\u001B[39;49m\u001B[38;5;124;43m, (.+?)р.\u001B[39;49m\u001B[38;5;124;43m'\u001B[39;49m\u001B[43m,\u001B[49m\u001B[43m \u001B[49m\u001B[38;5;124;43m'\u001B[39;49m\u001B[38;5;124;43m1. Салат «Витаминный», 120г, 65р.\u001B[39;49m\u001B[38;5;124;43m'\u001B[39;49m\u001B[43m)\u001B[49m\u001B[38;5;241;43m.\u001B[39;49m\u001B[43mgroup\u001B[49m\u001B[43m(\u001B[49m\u001B[43m)\u001B[49m\u001B[43m[\u001B[49m\u001B[43m:\u001B[49m\u001B[38;5;241;43m-\u001B[39;49m\u001B[38;5;241;43m2\u001B[39;49m\u001B[43m]\u001B[49m\u001B[43m)\u001B[49m\n\u001B[0;32m      3\u001B[0m price\n",
      "\u001B[1;31mValueError\u001B[0m: invalid literal for int() with base 10: ', 120г, 65'"
     ]
    }
   ],
   "source": [
    "import re\n",
    "price = int(re.search(r', (.+?)р.', '1. Салат «Витаминный», 120г, 65р.').group()[:-2])\n",
    "price"
   ],
   "metadata": {
    "collapsed": false
   }
  },
  {
   "cell_type": "markdown",
   "source": [],
   "metadata": {
    "collapsed": false
   }
  },
  {
   "cell_type": "code",
   "execution_count": 35,
   "outputs": [
    {
     "data": {
      "text/plain": "6122132"
     },
     "execution_count": 35,
     "metadata": {},
     "output_type": "execute_result"
    }
   ],
   "source": [
    "int(re.search(r', (\\d+?)р.', '1. Салат «Витаминный», 120г, 6122132р.').group()[2:-2])"
   ],
   "metadata": {
    "collapsed": false
   }
  },
  {
   "cell_type": "code",
   "execution_count": null,
   "outputs": [],
   "source": [],
   "metadata": {
    "collapsed": false
   }
  }
 ],
 "metadata": {
  "kernelspec": {
   "display_name": "Python 3",
   "language": "python",
   "name": "python3"
  },
  "language_info": {
   "codemirror_mode": {
    "name": "ipython",
    "version": 3
   },
   "file_extension": ".py",
   "mimetype": "text/x-python",
   "name": "python",
   "nbconvert_exporter": "python",
   "pygments_lexer": "ipython3",
   "version": "3.9.10"
  },
  "orig_nbformat": 4
 },
 "nbformat": 4,
 "nbformat_minor": 2
}
