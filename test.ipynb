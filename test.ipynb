{
 "cells": [
  {
   "cell_type": "code",
   "execution_count": 2,
   "metadata": {},
   "outputs": [
    {
     "data": {
      "text/plain": "   Serial Number Name  Height (in inches)  Age  Phone number\n0              1   AA               142.0   10     100000001\n1              2   AB               143.0   11     100000002\n2              3   AC               145.0   12     100000003\n3              4   AD               172.0   13     100000004\n4              5   AE               147.0   14     100000005",
      "text/html": "<div>\n<style scoped>\n    .dataframe tbody tr th:only-of-type {\n        vertical-align: middle;\n    }\n\n    .dataframe tbody tr th {\n        vertical-align: top;\n    }\n\n    .dataframe thead th {\n        text-align: right;\n    }\n</style>\n<table border=\"1\" class=\"dataframe\">\n  <thead>\n    <tr style=\"text-align: right;\">\n      <th></th>\n      <th>Serial Number</th>\n      <th>Name</th>\n      <th>Height (in inches)</th>\n      <th>Age</th>\n      <th>Phone number</th>\n    </tr>\n  </thead>\n  <tbody>\n    <tr>\n      <th>0</th>\n      <td>1</td>\n      <td>AA</td>\n      <td>142.0</td>\n      <td>10</td>\n      <td>100000001</td>\n    </tr>\n    <tr>\n      <th>1</th>\n      <td>2</td>\n      <td>AB</td>\n      <td>143.0</td>\n      <td>11</td>\n      <td>100000002</td>\n    </tr>\n    <tr>\n      <th>2</th>\n      <td>3</td>\n      <td>AC</td>\n      <td>145.0</td>\n      <td>12</td>\n      <td>100000003</td>\n    </tr>\n    <tr>\n      <th>3</th>\n      <td>4</td>\n      <td>AD</td>\n      <td>172.0</td>\n      <td>13</td>\n      <td>100000004</td>\n    </tr>\n    <tr>\n      <th>4</th>\n      <td>5</td>\n      <td>AE</td>\n      <td>147.0</td>\n      <td>14</td>\n      <td>100000005</td>\n    </tr>\n  </tbody>\n</table>\n</div>"
     },
     "execution_count": 2,
     "metadata": {},
     "output_type": "execute_result"
    }
   ],
   "source": [
    "import pandas as pd\n",
    "df = pd.read_csv('Book1.csv')\n",
    "df.head()"
   ]
  },
  {
   "cell_type": "code",
   "execution_count": 46,
   "outputs": [
    {
     "data": {
      "text/plain": "'[142.0, 143.0, 145.0, 172.0, 147.0, 148.5, 149.8, 151.1, 152.4, 153.7]'"
     },
     "execution_count": 46,
     "metadata": {},
     "output_type": "execute_result"
    }
   ],
   "source": [
    "f\"{[df['Height (in inches)'].tolist()[i] for i in range(10)]}\""
   ],
   "metadata": {
    "collapsed": false
   }
  },
  {
   "cell_type": "code",
   "execution_count": 47,
   "outputs": [
    {
     "name": "stdout",
     "output_type": "stream",
     "text": [
      "142.0\n",
      "143.0\n",
      "145.0\n",
      "172.0\n",
      "147.0\n",
      "148.5\n",
      "149.8\n",
      "151.1\n",
      "152.4\n",
      "153.7\n"
     ]
    }
   ],
   "source": [
    "list = df['Height (in inches)'].tolist()\n",
    "for i in range(10):\n",
    "    print(list[i])"
   ],
   "metadata": {
    "collapsed": false
   }
  },
  {
   "cell_type": "code",
   "execution_count": 48,
   "outputs": [
    {
     "name": "stdout",
     "output_type": "stream",
     "text": [
      "---------------\n",
      "symbol=BTC\n",
      "margin_balance=0.15\n",
      "margin_position=0.05\n",
      "margin_frozen=0.01\n",
      "---------------\n",
      "---------------\n",
      "symbol=BTC2\n",
      "margin_balance=0.15\n",
      "margin_position=0.05\n",
      "margin_frozen=0.01\n",
      "---------------\n"
     ]
    }
   ],
   "source": [
    "btc_positions=[{ 'symbol: BTC', 'margin_balance: 0.15', 'margin_position: 0.05', 'margin_frozen: 0.01'},\n",
    "               { 'symbol: BTC2', 'margin_balance: 0.15', 'margin_position: 0.05', 'margin_frozen: 0.01'}]\n",
    "\n",
    "def test(value):\n",
    "    \"\"\"\n",
    "    value: list of sets of strings\n",
    "    \"\"\"\n",
    "    for p in value:  # iterate list\n",
    "        d = dict(s.split(': ') for s in p)  # turn sets of strings to dict\n",
    "        d = sorted(d.items(), key=lambda x: x[1], reverse=True)  # reverse sort into list of tuples\n",
    "        l = '-' * 15  # dashed line\n",
    "        fin = f'{l}\\n'  # create string to print\n",
    "        for v in d:\n",
    "            fin += '='.join(v)\n",
    "            fin += '\\n'\n",
    "        fin += l\n",
    "\n",
    "        print(fin)\n",
    "\n",
    "\n",
    "test(btc_positions)"
   ],
   "metadata": {
    "collapsed": false
   }
  },
  {
   "cell_type": "code",
   "execution_count": 49,
   "outputs": [
    {
     "name": "stdout",
     "output_type": "stream",
     "text": [
      "<class 'pandas.core.frame.DataFrame'>\n"
     ]
    }
   ],
   "source": [
    "print(type(df))"
   ],
   "metadata": {
    "collapsed": false
   }
  },
  {
   "cell_type": "code",
   "execution_count": 50,
   "outputs": [],
   "source": [
    "df = df.astype({'Serial Number': 'string'})"
   ],
   "metadata": {
    "collapsed": false
   }
  },
  {
   "cell_type": "code",
   "execution_count": 51,
   "outputs": [
    {
     "data": {
      "text/plain": "0      1\n1      2\n2      3\n3      4\n4      5\n5      6\n6      7\n7      8\n8      9\n9     10\n10    11\n11    12\n12    13\n13    14\n14    15\n15    16\n16    17\n17    18\n18    19\n19    20\n20    21\n21    22\n22    23\n23    24\n24    25\n25    26\n26    27\n27    28\n28    29\n29    30\n30    31\n31    32\n32    33\n33    34\n34    35\n35    36\n36    37\n37    38\n38    39\n39    40\n40    41\n41    42\n42    43\n43    44\n44    45\n45    46\n46    47\n47    48\n48    49\n49    50\nName: Serial Number, dtype: string"
     },
     "execution_count": 51,
     "metadata": {},
     "output_type": "execute_result"
    }
   ],
   "source": [
    "df['Serial Number']"
   ],
   "metadata": {
    "collapsed": false
   }
  },
  {
   "cell_type": "code",
   "execution_count": 52,
   "outputs": [],
   "source": [
    "import codecs\n",
    "writefile = codecs.open('dishes_dataset.csv', 'w', 'utf-8')"
   ],
   "metadata": {
    "collapsed": false
   }
  },
  {
   "cell_type": "code",
   "execution_count": 106,
   "outputs": [
    {
     "data": {
      "text/plain": "pandas.core.frame.DataFrame"
     },
     "execution_count": 106,
     "metadata": {},
     "output_type": "execute_result"
    }
   ],
   "source": [
    "df = pd.read_excel('dishes.xlsx')\n",
    "type(df)"
   ],
   "metadata": {
    "collapsed": false
   }
  },
  {
   "cell_type": "code",
   "execution_count": 107,
   "outputs": [],
   "source": [
    "indexes=list(~pd.isna(df['Салаты']))"
   ],
   "metadata": {
    "collapsed": false
   }
  },
  {
   "cell_type": "code",
   "execution_count": 108,
   "outputs": [
    {
     "name": "stdout",
     "output_type": "stream",
     "text": [
      "['1. Салат «Витаминный», 120г, 65р.', '2. Салат «питерский», 120г, 76р.', '3. Салат цезарь с курицей, 167р.']\n"
     ]
    }
   ],
   "source": [
    "print(df['Салаты'][indexes].values.tolist())"
   ],
   "metadata": {
    "collapsed": false
   }
  },
  {
   "cell_type": "code",
   "execution_count": 113,
   "outputs": [
    {
     "ename": "TypeError",
     "evalue": "Series.to_string() got an unexpected keyword argument 'formatters'",
     "output_type": "error",
     "traceback": [
      "\u001B[1;31m---------------------------------------------------------------------------\u001B[0m",
      "\u001B[1;31mTypeError\u001B[0m                                 Traceback (most recent call last)",
      "Cell \u001B[1;32mIn[113], line 2\u001B[0m\n\u001B[0;32m      1\u001B[0m formatter \u001B[38;5;241m=\u001B[39m \u001B[38;5;28;01mlambda\u001B[39;00m x: \u001B[38;5;124m'\u001B[39m\u001B[38;5;132;01m{:10.3f}\u001B[39;00m\u001B[38;5;124m'\u001B[39m\u001B[38;5;241m.\u001B[39mformat(x)\n\u001B[1;32m----> 2\u001B[0m \u001B[38;5;28mprint\u001B[39m(\u001B[43mdf\u001B[49m\u001B[43m[\u001B[49m\u001B[38;5;124;43m'\u001B[39;49m\u001B[38;5;124;43mСалаты\u001B[39;49m\u001B[38;5;124;43m'\u001B[39;49m\u001B[43m]\u001B[49m\u001B[43m[\u001B[49m\u001B[43mindexes\u001B[49m\u001B[43m]\u001B[49m\u001B[38;5;241;43m.\u001B[39;49m\u001B[43mto_string\u001B[49m\u001B[43m(\u001B[49m\u001B[43mindex\u001B[49m\u001B[38;5;241;43m=\u001B[39;49m\u001B[38;5;28;43;01mFalse\u001B[39;49;00m\u001B[43m,\u001B[49m\u001B[43m \u001B[49m\u001B[43mformatters\u001B[49m\u001B[38;5;241;43m=\u001B[39;49m\u001B[43mformatter\u001B[49m\u001B[43m)\u001B[49m)\n",
      "\u001B[1;31mTypeError\u001B[0m: Series.to_string() got an unexpected keyword argument 'formatters'"
     ]
    }
   ],
   "source": [
    "formatter = lambda x: '{:10.3f}'.format(x)\n",
    "print(df['Салаты'][indexes].to_string(index=False, formatters=formatter))"
   ],
   "metadata": {
    "collapsed": false
   }
  },
  {
   "cell_type": "code",
   "execution_count": 89,
   "outputs": [
    {
     "name": "stdout",
     "output_type": "stream",
     "text": [
      "1. Крем-суп из овощей, 300г, 71р.\n"
     ]
    }
   ],
   "source": [
    "indexes=list(~pd.isna(df['Супы']))\n",
    "print(pd.Series.to_string(df['Супы'][indexes], index=False))"
   ],
   "metadata": {
    "collapsed": false
   }
  },
  {
   "cell_type": "code",
   "execution_count": 100,
   "outputs": [
    {
     "data": {
      "text/plain": "<pandas.io.formats.style.Styler at 0x1c9125dc090>",
      "text/html": "<style type=\"text/css\">\n#T_ec24e_row0_col0, #T_ec24e_row1_col0, #T_ec24e_row2_col0, #T_ec24e_row3_col0, #T_ec24e_row4_col0, #T_ec24e_row5_col0, #T_ec24e_row6_col0, #T_ec24e_row7_col0 {\n  text-align: left;\n}\n</style>\n<table id=\"T_ec24e\">\n  <thead>\n    <tr>\n      <th class=\"blank level0\" >&nbsp;</th>\n      <th id=\"T_ec24e_level0_col0\" class=\"col_heading level0 col0\" >Горячее</th>\n    </tr>\n  </thead>\n  <tbody>\n    <tr>\n      <th id=\"T_ec24e_level0_row0\" class=\"row_heading level0 row0\" >0</th>\n      <td id=\"T_ec24e_row0_col0\" class=\"data row0 col0\" >1. Картопляник с грибами, 1 шт, 109р.</td>\n    </tr>\n    <tr>\n      <th id=\"T_ec24e_level0_row1\" class=\"row_heading level0 row1\" >1</th>\n      <td id=\"T_ec24e_row1_col0\" class=\"data row1 col0\" >2. Тефтели, 2 шт, 129р.</td>\n    </tr>\n    <tr>\n      <th id=\"T_ec24e_level0_row2\" class=\"row_heading level0 row2\" >2</th>\n      <td id=\"T_ec24e_row2_col0\" class=\"data row2 col0\" >3. Кусочки куриного филе в сливочном соусе, 139р.</td>\n    </tr>\n    <tr>\n      <th id=\"T_ec24e_level0_row3\" class=\"row_heading level0 row3\" >3</th>\n      <td id=\"T_ec24e_row3_col0\" class=\"data row3 col0\" >4. Плов из курицы, 220г, 156р.</td>\n    </tr>\n    <tr>\n      <th id=\"T_ec24e_level0_row4\" class=\"row_heading level0 row4\" >4</th>\n      <td id=\"T_ec24e_row4_col0\" class=\"data row4 col0\" >5. Макароны по флотски, 133р.</td>\n    </tr>\n    <tr>\n      <th id=\"T_ec24e_level0_row5\" class=\"row_heading level0 row5\" >5</th>\n      <td id=\"T_ec24e_row5_col0\" class=\"data row5 col0\" >6. Шаурма с курицей, 400г, 183р.</td>\n    </tr>\n    <tr>\n      <th id=\"T_ec24e_level0_row6\" class=\"row_heading level0 row6\" >6</th>\n      <td id=\"T_ec24e_row6_col0\" class=\"data row6 col0\" >7. Гуляш из говядины, 130г, 192р.</td>\n    </tr>\n    <tr>\n      <th id=\"T_ec24e_level0_row7\" class=\"row_heading level0 row7\" >7</th>\n      <td id=\"T_ec24e_row7_col0\" class=\"data row7 col0\" >8. Курица по-французски, 169р.</td>\n    </tr>\n  </tbody>\n</table>\n"
     },
     "metadata": {},
     "output_type": "display_data"
    }
   ],
   "source": [
    "indexes = list(~pd.isna(df['Горячее']))\n",
    "df1=df['Горячее'][indexes]\n",
    "df1 = df1.to_frame()\n",
    "left_aligned_df = df1.style.set_properties(**{'text-align': 'left'})\n",
    "display(left_aligned_df)"
   ],
   "metadata": {
    "collapsed": false
   }
  },
  {
   "cell_type": "markdown",
   "source": [],
   "metadata": {
    "collapsed": false
   }
  },
  {
   "cell_type": "code",
   "execution_count": 101,
   "outputs": [
    {
     "data": {
      "text/plain": "<pandas.io.formats.style.Styler at 0x1c9125dc090>",
      "text/html": "<style type=\"text/css\">\n#T_ec24e_row0_col0, #T_ec24e_row1_col0, #T_ec24e_row2_col0, #T_ec24e_row3_col0, #T_ec24e_row4_col0, #T_ec24e_row5_col0, #T_ec24e_row6_col0, #T_ec24e_row7_col0 {\n  text-align: left;\n}\n</style>\n<table id=\"T_ec24e\">\n  <thead>\n    <tr>\n      <th class=\"blank level0\" >&nbsp;</th>\n      <th id=\"T_ec24e_level0_col0\" class=\"col_heading level0 col0\" >Горячее</th>\n    </tr>\n  </thead>\n  <tbody>\n    <tr>\n      <th id=\"T_ec24e_level0_row0\" class=\"row_heading level0 row0\" >0</th>\n      <td id=\"T_ec24e_row0_col0\" class=\"data row0 col0\" >1. Картопляник с грибами, 1 шт, 109р.</td>\n    </tr>\n    <tr>\n      <th id=\"T_ec24e_level0_row1\" class=\"row_heading level0 row1\" >1</th>\n      <td id=\"T_ec24e_row1_col0\" class=\"data row1 col0\" >2. Тефтели, 2 шт, 129р.</td>\n    </tr>\n    <tr>\n      <th id=\"T_ec24e_level0_row2\" class=\"row_heading level0 row2\" >2</th>\n      <td id=\"T_ec24e_row2_col0\" class=\"data row2 col0\" >3. Кусочки куриного филе в сливочном соусе, 139р.</td>\n    </tr>\n    <tr>\n      <th id=\"T_ec24e_level0_row3\" class=\"row_heading level0 row3\" >3</th>\n      <td id=\"T_ec24e_row3_col0\" class=\"data row3 col0\" >4. Плов из курицы, 220г, 156р.</td>\n    </tr>\n    <tr>\n      <th id=\"T_ec24e_level0_row4\" class=\"row_heading level0 row4\" >4</th>\n      <td id=\"T_ec24e_row4_col0\" class=\"data row4 col0\" >5. Макароны по флотски, 133р.</td>\n    </tr>\n    <tr>\n      <th id=\"T_ec24e_level0_row5\" class=\"row_heading level0 row5\" >5</th>\n      <td id=\"T_ec24e_row5_col0\" class=\"data row5 col0\" >6. Шаурма с курицей, 400г, 183р.</td>\n    </tr>\n    <tr>\n      <th id=\"T_ec24e_level0_row6\" class=\"row_heading level0 row6\" >6</th>\n      <td id=\"T_ec24e_row6_col0\" class=\"data row6 col0\" >7. Гуляш из говядины, 130г, 192р.</td>\n    </tr>\n    <tr>\n      <th id=\"T_ec24e_level0_row7\" class=\"row_heading level0 row7\" >7</th>\n      <td id=\"T_ec24e_row7_col0\" class=\"data row7 col0\" >8. Курица по-французски, 169р.</td>\n    </tr>\n  </tbody>\n</table>\n"
     },
     "metadata": {},
     "output_type": "display_data"
    },
    {
     "data": {
      "text/plain": "NoneType"
     },
     "execution_count": 101,
     "metadata": {},
     "output_type": "execute_result"
    }
   ],
   "source": [
    "type(display(left_aligned_df))"
   ],
   "metadata": {
    "collapsed": false
   }
  },
  {
   "cell_type": "code",
   "execution_count": 104,
   "outputs": [
    {
     "name": "stdout",
     "output_type": "stream",
     "text": [
      "0 0\n"
     ]
    }
   ],
   "source": [
    "import pandas as pd\n",
    "frame = pd.DataFrame(data={0: 0, 1: 0}, index=[0])\n",
    "formatter = lambda x: '{:10.3f}'.format(x)\n",
    "print(frame.to_string(index=False, header=False))"
   ],
   "metadata": {
    "collapsed": false
   }
  },
  {
   "cell_type": "code",
   "execution_count": null,
   "outputs": [],
   "source": [],
   "metadata": {
    "collapsed": false
   }
  }
 ],
 "metadata": {
  "kernelspec": {
   "display_name": "Python 3",
   "language": "python",
   "name": "python3"
  },
  "language_info": {
   "codemirror_mode": {
    "name": "ipython",
    "version": 3
   },
   "file_extension": ".py",
   "mimetype": "text/x-python",
   "name": "python",
   "nbconvert_exporter": "python",
   "pygments_lexer": "ipython3",
   "version": "3.9.10"
  },
  "orig_nbformat": 4
 },
 "nbformat": 4,
 "nbformat_minor": 2
}
